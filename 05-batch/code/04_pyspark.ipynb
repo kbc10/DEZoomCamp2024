{
 "cells": [
  {
   "cell_type": "code",
   "execution_count": 1,
   "id": "0c2f8489-f5d7-4246-91e8-d5360866463f",
   "metadata": {},
   "outputs": [],
   "source": [
    "import pyspark\n",
    "from pyspark.sql import SparkSession"
   ]
  },
  {
   "cell_type": "code",
   "execution_count": 2,
   "id": "39a45b2c-829c-43fc-8c3e-7160b5519bd8",
   "metadata": {},
   "outputs": [
    {
     "name": "stderr",
     "output_type": "stream",
     "text": [
      "24/03/03 00:31:07 WARN Utils: Your hostname, codespaces-7c27fa resolves to a loopback address: 127.0.0.1; using 172.16.5.4 instead (on interface eth0)\n",
      "24/03/03 00:31:07 WARN Utils: Set SPARK_LOCAL_IP if you need to bind to another address\n",
      "Setting default log level to \"WARN\".\n",
      "To adjust logging level use sc.setLogLevel(newLevel). For SparkR, use setLogLevel(newLevel).\n",
      "24/03/03 00:31:08 WARN NativeCodeLoader: Unable to load native-hadoop library for your platform... using builtin-java classes where applicable\n"
     ]
    }
   ],
   "source": [
    "spark = SparkSession.builder \\\n",
    "    .master(\"local[*]\") \\\n",
    "    .appName('test') \\\n",
    "    .getOrCreate()"
   ]
  },
  {
   "cell_type": "code",
   "execution_count": 3,
   "id": "a7bd0c3d",
   "metadata": {},
   "outputs": [
    {
     "data": {
      "text/plain": [
       "'3.5.1'"
      ]
     },
     "execution_count": 3,
     "metadata": {},
     "output_type": "execute_result"
    }
   ],
   "source": [
    "spark.version"
   ]
  },
  {
   "cell_type": "code",
   "execution_count": null,
   "id": "4522dc4e-76a8-49ef-95df-82c0134435f6",
   "metadata": {},
   "outputs": [],
   "source": [
    "# !wget https://nyc-tlc.s3.amazonaws.com/trip+data/fhvhv_tripdata_2021-01.csv"
   ]
  },
  {
   "cell_type": "code",
   "execution_count": null,
   "id": "9e522dbe-14d9-46cd-bc67-cf5f9e0ba763",
   "metadata": {},
   "outputs": [],
   "source": [
    "!wc -l fhvhv_tripdata_2021-01.csv"
   ]
  },
  {
   "cell_type": "code",
   "execution_count": null,
   "id": "cabb4d32-fc05-4bfd-98d1-08fc66161dcf",
   "metadata": {},
   "outputs": [],
   "source": [
    "df = spark.read \\\n",
    "    .option(\"header\", \"true\") \\\n",
    "    .csv('fhvhv_tripdata_2021-01.csv')"
   ]
  },
  {
   "cell_type": "code",
   "execution_count": null,
   "id": "d37e1903-69c7-4b27-8a96-e49a30e8f963",
   "metadata": {},
   "outputs": [],
   "source": [
    "df.show()"
   ]
  },
  {
   "cell_type": "code",
   "execution_count": null,
   "id": "a6166d4d-a5ae-4f3d-9f69-e0b9b92461d0",
   "metadata": {},
   "outputs": [],
   "source": [
    "df.schema"
   ]
  },
  {
   "cell_type": "code",
   "execution_count": null,
   "id": "247e0a50-22a6-4203-b12c-8f5dfefef39c",
   "metadata": {},
   "outputs": [],
   "source": [
    "!head -n 1001 fhvhv_tripdata_2021-01.csv > head.csv"
   ]
  },
  {
   "cell_type": "code",
   "execution_count": null,
   "id": "5107854a-4086-4520-a96d-c5ad02e6b226",
   "metadata": {},
   "outputs": [],
   "source": [
    "!head -n 10 head.csv"
   ]
  },
  {
   "cell_type": "code",
   "execution_count": null,
   "id": "ae147433-bbd8-41a6-ba76-df22f5e179be",
   "metadata": {},
   "outputs": [],
   "source": [
    "%pip install -U pandas==2.1.3"
   ]
  },
  {
   "cell_type": "code",
   "execution_count": null,
   "id": "afcfa299-92c9-4f76-bf6a-f9837b6bf024",
   "metadata": {},
   "outputs": [],
   "source": [
    "import pandas as pd\n",
    "pd.DataFrame.iteritems = pd.DataFrame.items # needed to work with spark dataframes with spark version 3.3.2"
   ]
  },
  {
   "cell_type": "code",
   "execution_count": null,
   "id": "d06e0d87-01d6-4481-a501-c71279d79770",
   "metadata": {},
   "outputs": [],
   "source": [
    "df_pandas = pd.read_csv('head.csv')"
   ]
  },
  {
   "cell_type": "code",
   "execution_count": null,
   "id": "512d59d6-cfcc-4539-909d-4e5d89591341",
   "metadata": {},
   "outputs": [],
   "source": [
    "df_pandas.dtypes"
   ]
  },
  {
   "cell_type": "code",
   "execution_count": null,
   "id": "923cc674-41ca-4baf-9158-aacc12d1f0d1",
   "metadata": {},
   "outputs": [],
   "source": [
    "spark.createDataFrame(df_pandas).schema"
   ]
  },
  {
   "cell_type": "code",
   "execution_count": null,
   "id": "7b375fdd-eea8-40f1-8249-b9a42cec6f09",
   "metadata": {},
   "outputs": [],
   "source": [
    "from pyspark.sql import types"
   ]
  },
  {
   "cell_type": "code",
   "execution_count": null,
   "id": "05a66053-7724-4957-8f9d-63579924655c",
   "metadata": {},
   "outputs": [],
   "source": [
    "schema = types.StructType([\n",
    "    types.StructField('hvfhs_license_num', types.StringType(), True),\n",
    "    types.StructField('dispatching_base_num', types.StringType(), True),\n",
    "    types.StructField('pickup_datetime', types.TimestampType(), True),\n",
    "    types.StructField('dropoff_datetime', types.TimestampType(), True),\n",
    "    types.StructField('PULocationID', types.IntegerType(), True),\n",
    "    types.StructField('DOLocationID', types.IntegerType(), True),\n",
    "    types.StructField('SR_Flag', types.StringType(), True)\n",
    "])"
   ]
  },
  {
   "cell_type": "code",
   "execution_count": null,
   "id": "8df57683-a0d6-4196-b934-2910c0337b1e",
   "metadata": {},
   "outputs": [],
   "source": [
    "df = spark.read \\\n",
    "    .option(\"header\", \"true\") \\\n",
    "    .schema(schema) \\\n",
    "    .csv('fhvhv_tripdata_2021-01.csv')"
   ]
  },
  {
   "cell_type": "code",
   "execution_count": null,
   "id": "42122a96-2b97-4924-ad85-d024a3400609",
   "metadata": {},
   "outputs": [],
   "source": [
    "df.show()"
   ]
  },
  {
   "cell_type": "code",
   "execution_count": null,
   "id": "2fdbe1e6-d61e-434e-a9f6-1fee909c33ff",
   "metadata": {},
   "outputs": [],
   "source": [
    "df.head(10)"
   ]
  },
  {
   "cell_type": "code",
   "execution_count": null,
   "id": "df3cd3b0-9dd3-4c13-b4b1-aa933b252bc8",
   "metadata": {},
   "outputs": [],
   "source": [
    "df = df.repartition(24) # partition the data into 24 partitions, will only be applied when dataframe action\n",
    "                        # happens like writing to parquet files"
   ]
  },
  {
   "cell_type": "code",
   "execution_count": null,
   "id": "b3083c1b-af7c-433a-9c03-bec60b0b7efd",
   "metadata": {},
   "outputs": [],
   "source": [
    "df.write.parquet('fhvhv/2021/01/')"
   ]
  },
  {
   "cell_type": "code",
   "execution_count": null,
   "id": "c658a3b9-14f8-40dc-8572-c2e186500046",
   "metadata": {},
   "outputs": [],
   "source": [
    "df = spark.read.parquet('fhvhv/2021/01/')"
   ]
  },
  {
   "cell_type": "code",
   "execution_count": null,
   "id": "c6668856-642b-4b50-9457-040bf47d3c41",
   "metadata": {},
   "outputs": [],
   "source": [
    "df"
   ]
  },
  {
   "cell_type": "code",
   "execution_count": null,
   "id": "d38a670a-1e14-4c23-b999-f57db968cdc2",
   "metadata": {},
   "outputs": [],
   "source": [
    "df.printSchema()"
   ]
  },
  {
   "cell_type": "code",
   "execution_count": null,
   "id": "05fc9a92-df7a-4e99-b6e0-1eea366ccb51",
   "metadata": {},
   "outputs": [],
   "source": [
    "from pyspark.sql import functions as F"
   ]
  },
  {
   "cell_type": "code",
   "execution_count": null,
   "id": "889b43c3-69b5-4da1-9855-e9f25bce4e30",
   "metadata": {},
   "outputs": [],
   "source": [
    "df.show()"
   ]
  },
  {
   "cell_type": "code",
   "execution_count": null,
   "id": "ec08b95f-6ecd-4ec0-b64b-df8b6e492056",
   "metadata": {},
   "outputs": [],
   "source": [
    "def crazy_stuff(base_num):\n",
    "    num = int(base_num[1:])\n",
    "    if num % 7 == 0:\n",
    "        return f's/{num:03x}'\n",
    "    elif num % 3 == 0:\n",
    "        return f'a/{num:03x}'\n",
    "    else:\n",
    "        return f'e/{num:03x}'"
   ]
  },
  {
   "cell_type": "code",
   "execution_count": null,
   "id": "c50be873-6f9d-46ce-a17f-a073346ef533",
   "metadata": {},
   "outputs": [],
   "source": [
    "crazy_stuff('B02884')"
   ]
  },
  {
   "cell_type": "code",
   "execution_count": null,
   "id": "0710fc68-b5e4-40c6-b5ae-fe83fe6bc4e0",
   "metadata": {},
   "outputs": [],
   "source": [
    "crazy_stuff_udf = F.udf(crazy_stuff, returnType=types.StringType())"
   ]
  },
  {
   "cell_type": "code",
   "execution_count": null,
   "id": "8433311d-0457-42a5-88f9-506131eb525c",
   "metadata": {},
   "outputs": [],
   "source": [
    "df \\\n",
    "    .withColumn('pickup_date', F.to_date(df.pickup_datetime)) \\\n",
    "    .withColumn('dropoff_date', F.to_date(df.dropoff_datetime)) \\\n",
    "    .withColumn('base_id', crazy_stuff_udf(df.dispatching_base_num)) \\\n",
    "    .select('base_id', 'pickup_date', 'dropoff_date', 'PULocationID', 'DOLocationID') \\\n",
    "    .show()"
   ]
  },
  {
   "cell_type": "code",
   "execution_count": null,
   "id": "bda3b3b1-80f0-4315-a154-b2c01f47f2b6",
   "metadata": {},
   "outputs": [],
   "source": [
    "df.select('pickup_date', 'dropoff_date', 'PULocationID', 'DOLocationID') \\\n",
    "  .filter(df.hvfhs_license_num == 'HV0003')"
   ]
  },
  {
   "cell_type": "code",
   "execution_count": null,
   "id": "444f9cdb-86c3-4a32-bb2a-b3f2cb483c40",
   "metadata": {},
   "outputs": [],
   "source": [
    "!head -n 10 head.csv"
   ]
  },
  {
   "cell_type": "code",
   "execution_count": null,
   "id": "eb16cf02-f22d-4721-aa79-65791af012c9",
   "metadata": {},
   "outputs": [],
   "source": [
    "pd.DataFrame.items = pd.DataFrame.iteritems # revert this back"
   ]
  },
  {
   "cell_type": "code",
   "execution_count": null,
   "id": "04f26b17-47bf-4fc9-bb91-c579e32d2b22",
   "metadata": {},
   "outputs": [],
   "source": [
    "# git test"
   ]
  },
  {
   "cell_type": "code",
   "execution_count": 4,
   "id": "a71945a8",
   "metadata": {},
   "outputs": [
    {
     "data": {
      "text/plain": [
       "<bound method SparkSession.stop of <pyspark.sql.session.SparkSession object at 0x7f73ff42bd60>>"
      ]
     },
     "execution_count": 4,
     "metadata": {},
     "output_type": "execute_result"
    }
   ],
   "source": [
    "spark.stop"
   ]
  },
  {
   "cell_type": "code",
   "execution_count": null,
   "id": "c68c7508",
   "metadata": {},
   "outputs": [],
   "source": []
  }
 ],
 "metadata": {
  "kernelspec": {
   "display_name": "Python 3 (ipykernel)",
   "language": "python",
   "name": "python3"
  },
  "language_info": {
   "codemirror_mode": {
    "name": "ipython",
    "version": 3
   },
   "file_extension": ".py",
   "mimetype": "text/x-python",
   "name": "python",
   "nbconvert_exporter": "python",
   "pygments_lexer": "ipython3",
   "version": "3.10.13"
  }
 },
 "nbformat": 4,
 "nbformat_minor": 5
}
